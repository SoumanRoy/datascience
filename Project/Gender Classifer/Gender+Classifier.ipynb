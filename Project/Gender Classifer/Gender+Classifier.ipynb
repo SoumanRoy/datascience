{
 "cells": [
  {
   "cell_type": "code",
   "execution_count": 13,
   "metadata": {},
   "outputs": [
    {
     "name": "stdout",
     "output_type": "stream",
     "text": [
      "['female' 'male']\n"
     ]
    }
   ],
   "source": [
    "from sklearn import tree\n",
    "   #[height, weight, size]\n",
    "\n",
    "X=[[180,80,11],[182,76,10],[170,69,7],[175,64,8],[179,75,10],[183,10,11],[185,73,9],[173,79,8],[176,66,9],[173,75,9]]\n",
    "\n",
    "Y =['male','male','female','female','female','male','male','female','female','female',]\n",
    "\n",
    "clf = tree.DecisionTreeClassifier()\n",
    "\n",
    "clf = clf.fit(X,Y)\n",
    "\n",
    "prediction = clf.predict([[170,70,8],[182,79,10]])\n",
    "\n",
    "print prediction"
   ]
  }
 ],
 "metadata": {
  "kernelspec": {
   "display_name": "Python 2",
   "language": "python",
   "name": "python2"
  },
  "language_info": {
   "codemirror_mode": {
    "name": "ipython",
    "version": 2
   },
   "file_extension": ".py",
   "mimetype": "text/x-python",
   "name": "python",
   "nbconvert_exporter": "python",
   "pygments_lexer": "ipython2",
   "version": "2.7.14"
  }
 },
 "nbformat": 4,
 "nbformat_minor": 2
}
